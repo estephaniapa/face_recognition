{
 "cells": [
  {
   "cell_type": "markdown",
   "metadata": {},
   "source": [
    "# Face Recognition"
   ]
  },
  {
   "cell_type": "markdown",
   "metadata": {},
   "source": [
    "## 0. Importar librerías"
   ]
  },
  {
   "cell_type": "code",
   "execution_count": 101,
   "metadata": {
    "colab": {
     "base_uri": "https://localhost:8080/"
    },
    "executionInfo": {
     "elapsed": 10798,
     "status": "ok",
     "timestamp": 1715987377491,
     "user": {
      "displayName": "Edelmira Rodriguez Alcantar",
      "userId": "16350903295449613310"
     },
     "user_tz": 420
    },
    "id": "WAZ6B9Wv0Of1",
    "outputId": "31e5ece1-3450-4e3f-a4b5-4b435249a2f0",
    "tags": []
   },
   "outputs": [],
   "source": [
    "#!pip install tensorflow==2.3.0"
   ]
  },
  {
   "cell_type": "code",
   "execution_count": 168,
   "metadata": {
    "colab": {
     "base_uri": "https://localhost:8080/"
    },
    "executionInfo": {
     "elapsed": 316,
     "status": "ok",
     "timestamp": 1715987416689,
     "user": {
      "displayName": "Edelmira Rodriguez Alcantar",
      "userId": "16350903295449613310"
     },
     "user_tz": 420
    },
    "id": "7CkA4EYQ1e4a",
    "outputId": "c525b075-83f4-440b-b705-379fda4e157d",
    "tags": []
   },
   "outputs": [],
   "source": [
    "# import tensorflow as tf\n",
    "# print(tf.__version__)"
   ]
  },
  {
   "cell_type": "code",
   "execution_count": 169,
   "metadata": {
    "colab": {
     "base_uri": "https://localhost:8080/"
    },
    "executionInfo": {
     "elapsed": 4,
     "status": "ok",
     "timestamp": 1715987416689,
     "user": {
      "displayName": "Edelmira Rodriguez Alcantar",
      "userId": "16350903295449613310"
     },
     "user_tz": 420
    },
    "id": "o_p3hnzA-Psk",
    "outputId": "10232a4b-76a8-4e5e-d21f-71ba64b8ee2a",
    "tags": []
   },
   "outputs": [],
   "source": [
    "# !python --version"
   ]
  },
  {
   "cell_type": "code",
   "execution_count": 170,
   "metadata": {},
   "outputs": [],
   "source": [
    "# print(keras.__version__)"
   ]
  },
  {
   "cell_type": "code",
   "execution_count": 156,
   "metadata": {
    "colab": {
     "background_save": true
    },
    "executionInfo": {
     "elapsed": 4,
     "status": "ok",
     "timestamp": 1715987562493,
     "user": {
      "displayName": "Edelmira Rodriguez Alcantar",
      "userId": "16350903295449613310"
     },
     "user_tz": 420
    },
    "id": "oM-VOo4tNKSN",
    "tags": []
   },
   "outputs": [],
   "source": [
    "from keras.models import Sequential\n",
    "from keras.layers import Conv2D, ZeroPadding2D, Activation, Input, concatenate\n",
    "from keras.models import Model\n",
    "from keras.layers import BatchNormalization\n",
    "from keras.layers import MaxPooling2D, AveragePooling2D\n",
    "from keras.layers import Concatenate\n",
    "from keras.layers import Lambda, Flatten, Dense\n",
    "from keras.initializers import glorot_uniform\n",
    "from keras.layers import Layer\n",
    "from tensorflow.keras import backend as K\n",
    "K.set_image_data_format('channels_last')\n",
    "import os\n",
    "from tensorflow.keras.models import model_from_json\n",
    "from tensorflow import keras\n",
    "import numpy as np\n",
    "from numpy import genfromtxt\n",
    "import pandas as pd\n",
    "import PIL\n",
    "\n",
    "#%matplotlib inline\n",
    "#%load_ext autoreload\n",
    "#%autoreload 2"
   ]
  },
  {
   "cell_type": "code",
   "execution_count": 108,
   "metadata": {
    "executionInfo": {
     "elapsed": 349,
     "status": "ok",
     "timestamp": 1715987513336,
     "user": {
      "displayName": "Edelmira Rodriguez Alcantar",
      "userId": "16350903295449613310"
     },
     "user_tz": 420
    },
    "id": "6-Om-vUw0yv3",
    "tags": []
   },
   "outputs": [],
   "source": [
    "# from keras.src.saving import serialization_lib\n",
    "# serialization_lib.enable_unsafe_deserialization()"
   ]
  },
  {
   "cell_type": "code",
   "execution_count": 157,
   "metadata": {},
   "outputs": [],
   "source": [
    "# Load the model architecture from the JSON file\n",
    "json_file_path = './keras-facenet-h5/model.json'\n",
    "with open(json_file_path, 'r') as json_file:\n",
    "    model_json = json_file.read()\n",
    "\n",
    "# Recreate the model from the JSON file\n",
    "model = model_from_json(model_json)\n",
    "\n",
    "# Load the weights into the model\n",
    "weights_file_path = './keras-facenet-h5/model.h5'\n",
    "model.load_weights(weights_file_path)\n",
    "\n",
    "# Compile the model if required\n",
    "model.compile(optimizer='adam', loss='categorical_crossentropy', metrics=['accuracy'])\n",
    "\n",
    "# Now the model is loaded and ready to use"
   ]
  },
  {
   "cell_type": "code",
   "execution_count": 111,
   "metadata": {
    "executionInfo": {
     "elapsed": 33,
     "status": "aborted",
     "timestamp": 1715986627634,
     "user": {
      "displayName": "Edelmira Rodriguez Alcantar",
      "userId": "16350903295449613310"
     },
     "user_tz": 420
    },
    "id": "Dp783uvtNKSP"
   },
   "outputs": [
    {
     "name": "stdout",
     "output_type": "stream",
     "text": [
      "[<tf.Tensor 'input_1_6:0' shape=(None, 160, 160, 3) dtype=float32>]\n",
      "[<tf.Tensor 'Bottleneck_BatchNorm/batchnorm_6/add_1:0' shape=(None, 128) dtype=float32>]\n"
     ]
    }
   ],
   "source": [
    "print(model.inputs)\n",
    "print(model.outputs)"
   ]
  },
  {
   "cell_type": "code",
   "execution_count": 171,
   "metadata": {
    "executionInfo": {
     "elapsed": 33,
     "status": "aborted",
     "timestamp": 1715986627634,
     "user": {
      "displayName": "Edelmira Rodriguez Alcantar",
      "userId": "16350903295449613310"
     },
     "user_tz": 420
    },
    "id": "B4sV_ZPyNKSQ"
   },
   "outputs": [],
   "source": [
    "# UNQ_C1(UNIQUE CELL IDENTIFIER, DO NOT EDIT)\n",
    "# GRADED FUNCTION: triplet_loss\n",
    "\n",
    "def triplet_loss(y_true, y_pred, alpha = 0.2):\n",
    "    \"\"\"\n",
    "    Implementation of the triplet loss as defined by formula (3)\n",
    "\n",
    "    Arguments:\n",
    "    y_true -- true labels, required when you define a loss in Keras, you don't need it in this function.\n",
    "    y_pred -- python list containing three objects:\n",
    "            anchor -- the encodings for the anchor images, of shape (None, 128)\n",
    "            positive -- the encodings for the positive images, of shape (None, 128)\n",
    "            negative -- the encodings for the negative images, of shape (None, 128)\n",
    "\n",
    "    Returns:\n",
    "    loss -- real number, value of the loss\n",
    "    \"\"\"\n",
    "\n",
    "    anchor, positive, negative = y_pred[0], y_pred[1], y_pred[2]\n",
    "\n",
    "    # Compute the (encoding) distance between the anchor and the positive\n",
    "    pos_dist =  tf.reduce_sum(tf.square(tf.subtract(anchor, positive)), axis=-1)\n",
    "    # Compute the (encoding) distance between the anchor and the negative\n",
    "    neg_dist = tf.reduce_sum(tf.square(tf.subtract(anchor, negative)), axis=-1)\n",
    "    # Subtract the two previous distances and add alpha.\n",
    "    basic_loss = tf.add(tf.subtract(pos_dist, neg_dist), alpha)\n",
    "    # Take the maximum of basic_loss and 0.0. Sum over the training examples.\n",
    "    loss = tf.reduce_sum(tf.maximum(basic_loss, 0))\n",
    "\n",
    "    return loss"
   ]
  },
  {
   "cell_type": "markdown",
   "metadata": {},
   "source": [
    "## Cargamos el modelo pre-entrenado"
   ]
  },
  {
   "cell_type": "code",
   "execution_count": 113,
   "metadata": {
    "executionInfo": {
     "elapsed": 34,
     "status": "aborted",
     "timestamp": 1715986627635,
     "user": {
      "displayName": "Edelmira Rodriguez Alcantar",
      "userId": "16350903295449613310"
     },
     "user_tz": 420
    },
    "id": "ZaaqcC5jNKSR"
   },
   "outputs": [],
   "source": [
    "FRmodel = model"
   ]
  },
  {
   "cell_type": "markdown",
   "metadata": {},
   "source": [
    "## Aplicando el modelo"
   ]
  },
  {
   "cell_type": "code",
   "execution_count": 126,
   "metadata": {
    "executionInfo": {
     "elapsed": 33,
     "status": "aborted",
     "timestamp": 1715986627635,
     "user": {
      "displayName": "Edelmira Rodriguez Alcantar",
      "userId": "16350903295449613310"
     },
     "user_tz": 420
    },
    "id": "DSGWlr22NKSS"
   },
   "outputs": [],
   "source": [
    "#tf.keras.backend.set_image_data_format('channels_last')\n",
    "def img_to_encoding(image_path, model):\n",
    "    img = tf.keras.preprocessing.image.load_img(image_path, target_size=(160, 160))\n",
    "    img = np.around(np.array(img) / 255.0, decimals=12)\n",
    "    x_train = np.expand_dims(img, axis=0)\n",
    "    embedding = model.predict_on_batch(x_train)\n",
    "    return embedding / np.linalg.norm(embedding, ord=2)"
   ]
  },
  {
   "cell_type": "code",
   "execution_count": 127,
   "metadata": {
    "executionInfo": {
     "elapsed": 30,
     "status": "aborted",
     "timestamp": 1715986627635,
     "user": {
      "displayName": "Edelmira Rodriguez Alcantar",
      "userId": "16350903295449613310"
     },
     "user_tz": 420
    },
    "id": "yCkvDCv3NKSS"
   },
   "outputs": [],
   "source": [
    "database = {}\n",
    "database[\"Estephania\"] = img_to_encoding(\"images/Estephania.jpeg\", FRmodel)\n",
    "database[\"Vesna\"] = img_to_encoding(\"images/Vesna.jpeg\", FRmodel)\n",
    "database[\"Leonela\"] = img_to_encoding(\"images/Leonela.jpeg\", FRmodel)"
   ]
  },
  {
   "cell_type": "markdown",
   "metadata": {
    "id": "RyX8UZrTNKSS"
   },
   "source": [
    "Cargamos las imágenes de Estephania y Leonela:"
   ]
  },
  {
   "cell_type": "code",
   "execution_count": 128,
   "metadata": {
    "executionInfo": {
     "elapsed": 30,
     "status": "aborted",
     "timestamp": 1715986627636,
     "user": {
      "displayName": "Edelmira Rodriguez Alcantar",
      "userId": "16350903295449613310"
     },
     "user_tz": 420
    },
    "id": "2EBwhnWnNKSS"
   },
   "outputs": [],
   "source": [
    "estephania = tf.keras.preprocessing.image.load_img(\"images/Estephania.jpeg\", target_size=(160, 160))\n",
    "leonela = tf.keras.preprocessing.image.load_img(\"images/Leonela.jpeg\", target_size=(160, 160))"
   ]
  },
  {
   "cell_type": "code",
   "execution_count": 129,
   "metadata": {
    "executionInfo": {
     "elapsed": 30,
     "status": "aborted",
     "timestamp": 1715986627636,
     "user": {
      "displayName": "Edelmira Rodriguez Alcantar",
      "userId": "16350903295449613310"
     },
     "user_tz": 420
    },
    "id": "2Mpw7ru9NKSS"
   },
   "outputs": [
    {
     "data": {
      "text/plain": [
       "(160, 160, 3)"
      ]
     },
     "execution_count": 129,
     "metadata": {},
     "output_type": "execute_result"
    }
   ],
   "source": [
    "np.around(np.array(kian) / 255.0, decimals=12).shape"
   ]
  },
  {
   "cell_type": "code",
   "execution_count": 131,
   "metadata": {
    "executionInfo": {
     "elapsed": 29,
     "status": "aborted",
     "timestamp": 1715986627636,
     "user": {
      "displayName": "Edelmira Rodriguez Alcantar",
      "userId": "16350903295449613310"
     },
     "user_tz": 420
    },
    "id": "yRlyvaWpNKSS"
   },
   "outputs": [
    {
     "data": {
      "image/png": "[encoded data removed]",
      "text/plain": [
       "<PIL.Image.Image image mode=RGB size=160x160 at 0x7FB7A31E7650>"
      ]
     },
     "execution_count": 131,
     "metadata": {},
     "output_type": "execute_result"
    }
   ],
   "source": [
    "estephania"
   ]
  },
  {
   "cell_type": "code",
   "execution_count": 119,
   "metadata": {
    "executionInfo": {
     "elapsed": 29,
     "status": "aborted",
     "timestamp": 1715986627637,
     "user": {
      "displayName": "Edelmira Rodriguez Alcantar",
      "userId": "16350903295449613310"
     },
     "user_tz": 420
    },
    "id": "rd00nURnNKST"
   },
   "outputs": [
    {
     "data": {
      "text/plain": [
       "(160, 160, 3)"
      ]
     },
     "execution_count": 119,
     "metadata": {},
     "output_type": "execute_result"
    }
   ],
   "source": [
    "np.around(np.array(danielle) / 255.0, decimals=12).shape"
   ]
  },
  {
   "cell_type": "code",
   "execution_count": 132,
   "metadata": {
    "executionInfo": {
     "elapsed": 28,
     "status": "aborted",
     "timestamp": 1715986627637,
     "user": {
      "displayName": "Edelmira Rodriguez Alcantar",
      "userId": "16350903295449613310"
     },
     "user_tz": 420
    },
    "id": "HdDdbkRPNKST"
   },
   "outputs": [
    {
     "data": {
      "image/png": "[encoded data removed]",
      "text/plain": [
       "<PIL.Image.Image image mode=RGB size=160x160 at 0x7FB7813BCA50>"
      ]
     },
     "execution_count": 132,
     "metadata": {},
     "output_type": "execute_result"
    }
   ],
   "source": [
    "leonela"
   ]
  },
  {
   "cell_type": "code",
   "execution_count": 158,
   "metadata": {
    "executionInfo": {
     "elapsed": 28,
     "status": "aborted",
     "timestamp": 1715986627637,
     "user": {
      "displayName": "Edelmira Rodriguez Alcantar",
      "userId": "16350903295449613310"
     },
     "user_tz": 420
    },
    "id": "sAJ7_tVuNKST"
   },
   "outputs": [],
   "source": [
    "def verify(image_path, identity, database, model):\n",
    "    \"\"\"\n",
    "    Function that verifies if the person on the \"image_path\" image is \"identity\".\n",
    "\n",
    "    Arguments:\n",
    "        image_path -- path to an image\n",
    "        identity -- string, name of the person you'd like to verify the identity. Has to be an employee who works in the office.\n",
    "        database -- python dictionary mapping names of allowed people's names (strings) to their encodings (vectors).\n",
    "        model -- your Inception model instance in Keras\n",
    "\n",
    "    Returns:\n",
    "        dist -- distance between the image_path and the image of \"identity\" in the database.\n",
    "        door_open -- True, if the door should open. False otherwise.\n",
    "    \"\"\"\n",
    "    ### START CODE HERE\n",
    "    # Step 1: Compute the encoding for the image. Use img_to_encoding() see example above. (≈ 1 line)\n",
    "    encoding =  img_to_encoding(image_path, model)\n",
    "    # Step 2: Compute distance with identity's image (≈ 1 line)\n",
    "    dist = np.linalg.norm(encoding - database[identity])\n",
    "    # Step 3: Open the door if dist < 0.7, else don't open (≈ 3 lines)\n",
    "    if dist<0.7:\n",
    "        print(\"It's \" + str(identity) + \", welcome in!\")\n",
    "        door_open = True\n",
    "    else:\n",
    "        print(\"It's not \" + str(identity) + \", please go away\")\n",
    "        door_open = False\n",
    "    ### END CODE HERE\n",
    "    return dist, door_open"
   ]
  },
  {
   "cell_type": "code",
   "execution_count": 172,
   "metadata": {
    "executionInfo": {
     "elapsed": 28,
     "status": "aborted",
     "timestamp": 1715986627638,
     "user": {
      "displayName": "Edelmira Rodriguez Alcantar",
      "userId": "16350903295449613310"
     },
     "user_tz": 420
    },
    "id": "pVwmOTZANKSU"
   },
   "outputs": [
    {
     "name": "stdout",
     "output_type": "stream",
     "text": [
      "It's not Estephania, please go away\n"
     ]
    },
    {
     "data": {
      "text/plain": [
       "(1.0675745, False)"
      ]
     },
     "execution_count": 172,
     "metadata": {},
     "output_type": "execute_result"
    }
   ],
   "source": [
    "### YOU CANNOT EDIT THIS CELL\n",
    "\n",
    "verify(\"images/imagen2.jpeg\", \"Estephania\", database, FRmodel)"
   ]
  },
  {
   "cell_type": "code",
   "execution_count": 173,
   "metadata": {
    "executionInfo": {
     "elapsed": 28,
     "status": "aborted",
     "timestamp": 1715986627638,
     "user": {
      "displayName": "Edelmira Rodriguez Alcantar",
      "userId": "16350903295449613310"
     },
     "user_tz": 420
    },
    "id": "yxr77_B3NKSU"
   },
   "outputs": [],
   "source": [
    "def who_is_it(image_path, database, model):\n",
    "    \"\"\"\n",
    "    Implements face recognition for the office by finding who is the person on the image_path image.\n",
    "\n",
    "    Arguments:\n",
    "        image_path -- path to an image\n",
    "        database -- database containing image encodings along with the name of the person on the image\n",
    "        model -- your Inception model instance in Keras\n",
    "\n",
    "    Returns:\n",
    "        min_dist -- the minimum distance between image_path encoding and the encodings from the database\n",
    "        identity -- string, the name prediction for the person on image_path\n",
    "    \"\"\"\n",
    "\n",
    "    ## Compute the target \"encoding\" for the image. Use img_to_encoding() see example above. ## (≈ 1 line)\n",
    "    encoding =   img_to_encoding(image_path, model)\n",
    "\n",
    "    ## Find the closest encoding ##\n",
    "\n",
    "    # Initialize \"min_dist\" to a large value, say 100 (≈1 line)\n",
    "    min_dist = 100\n",
    "\n",
    "    # Loop over the database dictionary's names and encodings.\n",
    "    for (name, db_enc) in database.items():\n",
    "\n",
    "        # Compute L2 distance between the target \"encoding\" and the current db_enc from the database. (≈ 1 line)\n",
    "        dist =  np.linalg.norm(encoding - db_enc)\n",
    "\n",
    "        # If this distance is less than the min_dist, then set min_dist to dist, and identity to name. (≈ 3 lines)\n",
    "        if dist<min_dist:\n",
    "            min_dist = dist\n",
    "            identity = name\n",
    "\n",
    "    if min_dist > 0.7:\n",
    "        print(\"Not in the database.\")\n",
    "    else:\n",
    "        print (\"it's \" + str(identity) + \", the distance is \" + str(min_dist))\n",
    "\n",
    "    return min_dist, identity"
   ]
  }
 ],
 "metadata": {
  "colab": {
   "name": "",
   "version": ""
  },
  "kernelspec": {
   "display_name": "Python 3 (ipykernel)",
   "language": "python",
   "name": "python3"
  },
  "language_info": {
   "codemirror_mode": {
    "name": "ipython",
    "version": 3
   },
   "file_extension": ".py",
   "mimetype": "text/x-python",
   "name": "python",
   "nbconvert_exporter": "python",
   "pygments_lexer": "ipython3",
   "version": "3.7.6"
  }
 },
 "nbformat": 4,
 "nbformat_minor": 4
}
